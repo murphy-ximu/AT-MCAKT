{
 "cells": [
  {
   "cell_type": "code",
   "execution_count": 1,
   "metadata": {},
   "outputs": [],
   "source": [
    "import os\n",
    "from tqdm import tqdm\n",
    "import numpy as np\n",
    "import pandas as pd\n",
    "from config import Config\n",
    "from sklearn.model_selection import train_test_split\n",
    "import gc\n",
    "from time import *"
   ]
  },
  {
   "cell_type": "code",
   "execution_count": 5,
   "metadata": {},
   "outputs": [
    {
     "name": "stdout",
     "output_type": "stream",
     "text": [
      "loading csv.....\n",
      "question file ready\n",
      "user file loaded\n",
      "shape of dataframe : (603128, 31)\n",
      "user-question file merged\n",
      "Computing question difficulty\n",
      "Popularity max 1187 ,Difficulty max 1.0\n",
      "no. of questions : 6907\n",
      "shape after exlusion: (603128, 35)\n",
      "Calculating lag time\n"
     ]
    },
    {
     "name": "stderr",
     "output_type": "stream",
     "text": [
      "100%|██████████| 603128/603128 [00:00<00:00, 836801.57it/s]\n",
      "C:\\Users\\HY\\AppData\\Local\\Temp\\ipykernel_29484\\2761763062.py:74: DeprecationWarning: `np.int` is a deprecated alias for the builtin `int`. To silence this warning, use `int` by itself. Doing this will not modify any behavior and is safe. When replacing `np.int`, you may wish to use e.g. `np.int64` or `np.int32` to specify the precision. If you wish to review your current use, check the release note link for additional information.\n",
      "Deprecated in NumPy 1.20; for more details and guidance: https://numpy.org/devdocs/release/1.20.0-notes.html#deprecations\n",
      "  users_df.lag_time_s = users_df.lag_time_s.astype(np.int)\n",
      "C:\\Users\\HY\\AppData\\Local\\Temp\\ipykernel_29484\\2761763062.py:75: DeprecationWarning: `np.int` is a deprecated alias for the builtin `int`. To silence this warning, use `int` by itself. Doing this will not modify any behavior and is safe. When replacing `np.int`, you may wish to use e.g. `np.int64` or `np.int32` to specify the precision. If you wish to review your current use, check the release note link for additional information.\n",
      "Deprecated in NumPy 1.20; for more details and guidance: https://numpy.org/devdocs/release/1.20.0-notes.html#deprecations\n",
      "  users_df.lag_time_m = users_df.lag_time_m.astype(np.int)\n",
      "C:\\Users\\HY\\AppData\\Local\\Temp\\ipykernel_29484\\2761763062.py:76: DeprecationWarning: `np.int` is a deprecated alias for the builtin `int`. To silence this warning, use `int` by itself. Doing this will not modify any behavior and is safe. When replacing `np.int`, you may wish to use e.g. `np.int64` or `np.int32` to specify the precision. If you wish to review your current use, check the release note link for additional information.\n",
      "Deprecated in NumPy 1.20; for more details and guidance: https://numpy.org/devdocs/release/1.20.0-notes.html#deprecations\n",
      "  users_df.lag_time_d = users_df.lag_time_d.astype(np.int)\n"
     ]
    },
    {
     "name": "stdout",
     "output_type": "stream",
     "text": [
      "Grouping users...\n",
      "no. of users : 8096\n"
     ]
    },
    {
     "data": {
      "text/plain": [
       "0"
      ]
     },
     "execution_count": 5,
     "metadata": {},
     "output_type": "execute_result"
    }
   ],
   "source": [
    "mode = 'ns'\n",
    "\n",
    "question_dtypes = {\"problem_id\": \"int32\", \"tags\": \"str\", \"tags_num\": \"int16\"}\n",
    "if mode == \"ns\":\n",
    "    correct_t = \"float64\"\n",
    "else:\n",
    "    correct_t = \"int8\"\n",
    "u_dtypes = {'order_id': 'int64', 'user_id': 'int32',\n",
    "            'problem_id': 'int32', \"correct\": correct_t,\n",
    "            \"ms_first_response\": \"int64\",  'overlap_time': 'int64'}\n",
    "print(\"loading csv.....\")\n",
    "question_df = pd.read_csv(Config.QUESTION_FILE, usecols=[1, 2, 4], dtype=question_dtypes)\n",
    "# Align the name of key column for latter merging\n",
    "# 处理tags格式: str -> list[int]\n",
    "question_df.tags = question_df.tags.str.split(';')\n",
    "for i in range(len(question_df.tags)):\n",
    "    question_df.tags.at[i] = np.array(list(map(int, question_df.tags[i])), 'int32')\n",
    "    question_df.tags.at[i] = np.pad(question_df.tags[i], (0, Config.MAX_CATS_PER - len(question_df.tags[i])),\n",
    "                                    'constant', constant_values=(0))\n",
    "print(\"question file ready\")\n",
    "users_df =pd.read_csv(Config.TRAIN_FILE, dtype=u_dtypes,header=0)\n",
    "print(\"user file loaded\")\n",
    "print(\"shape of dataframe :\", users_df.shape)\n",
    "# AS09中没有elapsed_time 用ms_first_response代替\n",
    "users_df.ms_first_response.fillna(0, inplace=True)\n",
    "users_df.ms_first_response = abs(users_df.ms_first_response)\n",
    "users_df.ms_first_response /= 3600\n",
    "users_df.ms_first_response = users_df.ms_first_response.astype(np.int64)\n",
    "if mode == \"ns\":\n",
    "    users_df.correct = users_df.correct.round().astype(np.int8)\n",
    "# Merging train_df and question_df on question_id\n",
    "users_df = users_df.merge(question_df, on='problem_id', how=\"left\")  # left outer join to consider part\n",
    "del question_df\n",
    "gc.collect()\n",
    "print(\"user-question file merged\")\n",
    "# 时间排序\n",
    "users_df = users_df.sort_values([\"order_id\"], ascending=True).reset_index(drop=True)\n",
    "print(\"Computing question difficulty\")\n",
    "df_difficulty = users_df[\"correct\"].groupby(users_df[\"problem_id\"])\n",
    "users_df[\"popularity\"] = df_difficulty.transform('size')\n",
    "users_df[\"difficulty\"] = df_difficulty.transform('sum') / users_df[\"popularity\"]\n",
    "print(\"Popularity max\", users_df[\"popularity\"].max(), \",Difficulty max\", users_df[\"difficulty\"].max())\n",
    "del df_difficulty\n",
    "gc.collect()\n",
    "\n",
    "n_questions = users_df.problem_id.nunique()\n",
    "print(\"no. of questions :\", n_questions)\n",
    "print(\"shape after exlusion:\", users_df.shape)\n",
    "# AS09中没有timestamp 用orderid代替\n",
    "print(\"Calculating lag time\")\n",
    "time_dict = {}\n",
    "lag_time_col = np.zeros(len(users_df), dtype=np.int64)\n",
    "for ind, row in enumerate(tqdm(users_df[[\"user_id\", \"order_id\", \"problem_id\"]].values)):\n",
    "    if row[0] in time_dict.keys():\n",
    "        # if the task_container_id is the same, the lag time is not allowed\n",
    "        if row[2] == time_dict[row[0]][1]:\n",
    "            lag_time_col[ind] = time_dict[row[0]][2]\n",
    "        else:\n",
    "            timestamp_last = time_dict[row[0]][0]\n",
    "            lag_time_col[ind] = row[1] - timestamp_last\n",
    "            time_dict[row[0]] = (row[1], row[2], lag_time_col[ind])\n",
    "    else:\n",
    "        time_dict[row[0]] = (row[1], row[2], 0)\n",
    "        lag_time_col[ind] = 0\n",
    "    if lag_time_col[ind] < 0:\n",
    "        raise RuntimeError(\"Has lag_time smaller than 0.\")\n",
    "# AS09中用10 100 1000代替\n",
    "users_df[\"lag_time_s\"] = lag_time_col // 10\n",
    "users_df[\"lag_time_m\"] = lag_time_col // 100\n",
    "users_df[\"lag_time_d\"] = lag_time_col // 1000\n",
    "users_df.lag_time_s.clip(lower=0, upper=5000, inplace=True)\n",
    "users_df.lag_time_m.clip(lower=0, upper=500, inplace=True)\n",
    "users_df.lag_time_d.clip(lower=0, upper=50, inplace=True)\n",
    "users_df.lag_time_s = users_df.lag_time_s.astype(np.int)\n",
    "users_df.lag_time_m = users_df.lag_time_m.astype(np.int)\n",
    "users_df.lag_time_d = users_df.lag_time_d.astype(np.int)\n",
    "del lag_time_col\n",
    "gc.collect()\n",
    "\n",
    "# 按用户grouping\n",
    "# grouping based on user_id to get the data supplu\n",
    "print(\"Grouping users...\")\n",
    "group = users_df[[\"user_id\", \"problem_id\", \"correct\", \"ms_first_response\",\n",
    "                    \"tags\", \"tags_num\", \"popularity\", \"difficulty\",\n",
    "                    \"lag_time_s\", \"lag_time_m\", \"lag_time_d\",]] \\\n",
    "    .groupby(\"user_id\") \\\n",
    "    .apply(lambda r: (r.problem_id.values, r.correct.values,\n",
    "                        r.ms_first_response.values, r.tags.values,\n",
    "                        r.tags_num.values, r.popularity.values, r.difficulty.values,\n",
    "                        r.lag_time_s.values, r.lag_time_m.values, r.lag_time_d.values))\n",
    "n_users = users_df.user_id.nunique()\n",
    "print(\"no. of users :\", n_users)\n",
    "del users_df\n",
    "gc.collect()"
   ]
  },
  {
   "cell_type": "code",
   "execution_count": 6,
   "metadata": {},
   "outputs": [
    {
     "name": "stdout",
     "output_type": "stream",
     "text": [
      "user_id\n",
      "21825    ([34263, 57731], [1, 1], [5, 8], [[62, 0, 0, 0...\n",
      "23098    ([833, 831, 832, 4514], [0, 1, 1, 0], [3, 7, 1...\n",
      "26787    ([84889, 84890, 84891, 84892, 84893, 89821, 89...\n",
      "33121    ([2343, 9033, 4572, 988, 1002, 912, 1516, 997,...\n",
      "34037    ([24140, 24291, 24050, 24290, 24289, 24270, 24...\n",
      "36659    ([2289, 2285, 2286, 2287, 2288, 2201, 2197, 21...\n",
      "51933    ([102067, 2225, 2219, 2225, 839, 14536, 110558...\n",
      "51950    ([34105, 482, 1597, 1570, 9375, 4673], [0, 0, ...\n",
      "52574    ([174, 172, 173, 1022, 1018, 1019], [0, 0, 1, ...\n",
      "53102    ([39708, 39711, 39705], [0, 0, 0], [1, 0, 0], ...\n",
      "dtype: object\n"
     ]
    }
   ],
   "source": [
    "print(group.head(10))"
   ]
  },
  {
   "cell_type": "code",
   "execution_count": 9,
   "metadata": {},
   "outputs": [
    {
     "name": "stdout",
     "output_type": "stream",
     "text": [
      "(array([34263, 57731]), array([1, 1], dtype=int8), array([5, 8], dtype=int64), array([array([62,  0,  0,  0,  0,  0,  0,  0,  0,  0]),\n",
      "       array([ 9, 12,  0,  0,  0,  0,  0,  0,  0,  0])], dtype=object), array([1, 2], dtype=int16), array([169,  24], dtype=int64), array([0.72189349, 0.58333333]), array([ 0, 13]), array([0, 1]), array([0, 0]))\n"
     ]
    }
   ],
   "source": [
    "print(group.iloc[0])\n",
    "'''[\"user_id\", \"problem_id\", \"correct\", \"ms_first_response\",\n",
    "                    \"tags\", \"tags_num\", \"popularity\", \"difficulty\",\n",
    "                    \"lag_time_s\", \"lag_time_m\", \"lag_time_d\",]'''"
   ]
  }
 ],
 "metadata": {
  "kernelspec": {
   "display_name": "base",
   "language": "python",
   "name": "python3"
  },
  "language_info": {
   "codemirror_mode": {
    "name": "ipython",
    "version": 3
   },
   "file_extension": ".py",
   "mimetype": "text/x-python",
   "name": "python",
   "nbconvert_exporter": "python",
   "pygments_lexer": "ipython3",
   "version": "3.9.12"
  }
 },
 "nbformat": 4,
 "nbformat_minor": 2
}
